{
 "cells": [
  {
   "cell_type": "markdown",
   "id": "fe7ecb8d-ad0b-40c0-b404-8b4c339d1c8b",
   "metadata": {},
   "source": [
    "![insomnia](insomnia.jpg)\n"
   ]
  },
  {
   "cell_type": "markdown",
   "id": "04929432-e076-40ef-b2a7-8e67dc7ba1a3",
   "metadata": {},
   "source": [
    "Your client, SleepInc, has shared anonymized sleep data from their hot new sleep tracking app SleepScope. As their data science consultant, your mission is to analyze the lifestyle survey data with Python to discover relationships between exercise, gender, occupation, and sleep quality. See if you can identify patterns leading to insights on sleep quality.\n",
    "\n",
    "## 💾 The data: sleep_health_data.csv\n",
    "\n",
    "SleepInc has provided you with an anonymized dataset of sleep and lifestyle metrics for 374 individuals. This dataset contains average values for each person calculated over the past six months. The data is saved as `sleep_health_data.csv`.\n",
    "\n",
    "The dataset includes 13 columns covering sleep duration, quality, disorders, exercise, stress, diet, demographics, and other factors related to sleep health. \n",
    "\n",
    "| Column | Description |\n",
    "|---------|----------------------------------------|  \n",
    "| `Person ID` | An identifier for each individual. |\n",
    "| `Gender` | The gender of the person (Male/Female). |  \n",
    "| `Age` | The age of the person in years. |\n",
    "| `Occupation` | The occupation or profession of the person. |\n",
    "| `Sleep Duration (hours)` | The average number of hours the person sleeps per day. |\n",
    "| `Quality of Sleep (scale: 1-10)` | A subjective rating of the quality of sleep, ranging from 1 to 10. |\n",
    "| `Physical Activity Level (minutes/day)` | The average number of minutes the person engages in physical activity daily. |  \n",
    "| `Stress Level (scale: 1-10)` | A subjective rating of the stress level experienced by the person, ranging from 1 to 10. |\n",
    "| `BMI Category` | The BMI category of the person (e.g., Underweight, Normal, Overweight). |\n",
    "| `Blood Pressure (systolic/diastolic)` | The average blood pressure measurement of the person, indicated as systolic pressure over diastolic pressure. |\n",
    "| `Heart Rate (bpm)` | The average resting heart rate of the person in beats per minute. |\n",
    "| `Daily Steps` | The average number of steps the person takes per day. |\n",
    "| `Sleep Disorder` | The presence or absence of a sleep disorder in the person (None, Insomnia, Sleep Apnea). |"
   ]
  },
  {
   "cell_type": "markdown",
   "id": "792db7d4-3069-4767-9ae0-e8cd05c08f73",
   "metadata": {},
   "source": [
    "## Which occupation has the lowest average sleep duration?"
   ]
  },
  {
   "cell_type": "code",
   "execution_count": 5,
   "id": "a622f61f-54d5-468a-83b6-41f0ff404278",
   "metadata": {
    "collapsed": false,
    "executionCancelledAt": null,
    "executionTime": 48,
    "jupyter": {
     "outputs_hidden": false,
     "source_hidden": false
    },
    "lastExecutedAt": 1727614069770,
    "lastExecutedByKernel": "dc1a208c-09b0-46b6-a47c-4e3861c89a8c",
    "lastScheduledRunId": null,
    "lastSuccessfullyExecutedCode": "import pandas as pd\n\ndf = pd.read_csv(\"sleep_health_data.csv\", index_col=0)\npd.set_option('display.max_columns', None)\n\nprint(df.head())\n\n# Groupby occupation and calculate mean sleep duration \ndf_sleep_duration_group = df.groupby(\"Occupation\")[\"Sleep Duration\"].mean()\n\n# Get occupation with lowest average sleep duration\nlowest_sleep_occ = df_sleep_duration_group.sort_values().index[0]\nprint(lowest_sleep_occ)\n",
    "outputsMetadata": {
     "0": {
      "height": 521,
      "type": "stream"
     }
    }
   },
   "outputs": [
    {
     "name": "stdout",
     "output_type": "stream",
     "text": [
      "Sales Representative\n"
     ]
    }
   ],
   "source": [
    "import pandas as pd\n",
    "\n",
    "df = pd.read_csv(\"sleep_health_data.csv\", index_col=0)\n",
    "pd.set_option('display.max_columns', None)\n",
    "\n",
    "# Groupby occupation and calculate mean sleep duration \n",
    "df_sleep_duration_group = df.groupby(\"Occupation\")[\"Sleep Duration\"].mean()\n",
    "\n",
    "# Get occupation with lowest average sleep duration\n",
    "lowest_sleep_occ = df_sleep_duration_group.sort_values().index[0]\n",
    "print(lowest_sleep_occ)\n"
   ]
  },
  {
   "cell_type": "code",
   "execution_count": 7,
   "id": "73b7b61f-4084-49e0-91ee-9f6089c630f1",
   "metadata": {},
   "outputs": [
    {
     "data": {
      "text/html": [
       "<div>\n",
       "<style scoped>\n",
       "    .dataframe tbody tr th:only-of-type {\n",
       "        vertical-align: middle;\n",
       "    }\n",
       "\n",
       "    .dataframe tbody tr th {\n",
       "        vertical-align: top;\n",
       "    }\n",
       "\n",
       "    .dataframe thead th {\n",
       "        text-align: right;\n",
       "    }\n",
       "</style>\n",
       "<table border=\"1\" class=\"dataframe\">\n",
       "  <thead>\n",
       "    <tr style=\"text-align: right;\">\n",
       "      <th></th>\n",
       "      <th>Gender</th>\n",
       "      <th>Age</th>\n",
       "      <th>Occupation</th>\n",
       "      <th>Sleep Duration</th>\n",
       "      <th>Quality of Sleep</th>\n",
       "      <th>Physical Activity Level</th>\n",
       "      <th>Stress Level</th>\n",
       "      <th>BMI Category</th>\n",
       "      <th>Blood Pressure</th>\n",
       "      <th>Heart Rate</th>\n",
       "      <th>Daily Steps</th>\n",
       "      <th>Sleep Disorder</th>\n",
       "    </tr>\n",
       "    <tr>\n",
       "      <th>Person ID</th>\n",
       "      <th></th>\n",
       "      <th></th>\n",
       "      <th></th>\n",
       "      <th></th>\n",
       "      <th></th>\n",
       "      <th></th>\n",
       "      <th></th>\n",
       "      <th></th>\n",
       "      <th></th>\n",
       "      <th></th>\n",
       "      <th></th>\n",
       "      <th></th>\n",
       "    </tr>\n",
       "  </thead>\n",
       "  <tbody>\n",
       "    <tr>\n",
       "      <th>1</th>\n",
       "      <td>Male</td>\n",
       "      <td>27</td>\n",
       "      <td>Software Engineer</td>\n",
       "      <td>6.1</td>\n",
       "      <td>6</td>\n",
       "      <td>42</td>\n",
       "      <td>6</td>\n",
       "      <td>Overweight</td>\n",
       "      <td>126/83</td>\n",
       "      <td>77</td>\n",
       "      <td>4200</td>\n",
       "      <td>NaN</td>\n",
       "    </tr>\n",
       "    <tr>\n",
       "      <th>2</th>\n",
       "      <td>Male</td>\n",
       "      <td>28</td>\n",
       "      <td>Doctor</td>\n",
       "      <td>6.2</td>\n",
       "      <td>6</td>\n",
       "      <td>60</td>\n",
       "      <td>8</td>\n",
       "      <td>Normal</td>\n",
       "      <td>125/80</td>\n",
       "      <td>75</td>\n",
       "      <td>10000</td>\n",
       "      <td>NaN</td>\n",
       "    </tr>\n",
       "    <tr>\n",
       "      <th>3</th>\n",
       "      <td>Male</td>\n",
       "      <td>28</td>\n",
       "      <td>Doctor</td>\n",
       "      <td>6.2</td>\n",
       "      <td>6</td>\n",
       "      <td>60</td>\n",
       "      <td>8</td>\n",
       "      <td>Normal</td>\n",
       "      <td>125/80</td>\n",
       "      <td>75</td>\n",
       "      <td>10000</td>\n",
       "      <td>NaN</td>\n",
       "    </tr>\n",
       "    <tr>\n",
       "      <th>4</th>\n",
       "      <td>Male</td>\n",
       "      <td>28</td>\n",
       "      <td>Sales Representative</td>\n",
       "      <td>5.9</td>\n",
       "      <td>4</td>\n",
       "      <td>30</td>\n",
       "      <td>8</td>\n",
       "      <td>Obese</td>\n",
       "      <td>140/90</td>\n",
       "      <td>85</td>\n",
       "      <td>3000</td>\n",
       "      <td>Sleep Apnea</td>\n",
       "    </tr>\n",
       "    <tr>\n",
       "      <th>5</th>\n",
       "      <td>Male</td>\n",
       "      <td>28</td>\n",
       "      <td>Sales Representative</td>\n",
       "      <td>5.9</td>\n",
       "      <td>4</td>\n",
       "      <td>30</td>\n",
       "      <td>8</td>\n",
       "      <td>Obese</td>\n",
       "      <td>140/90</td>\n",
       "      <td>85</td>\n",
       "      <td>3000</td>\n",
       "      <td>Sleep Apnea</td>\n",
       "    </tr>\n",
       "  </tbody>\n",
       "</table>\n",
       "</div>"
      ],
      "text/plain": [
       "          Gender  Age            Occupation  Sleep Duration  Quality of Sleep  \\\n",
       "Person ID                                                                       \n",
       "1           Male   27     Software Engineer             6.1                 6   \n",
       "2           Male   28                Doctor             6.2                 6   \n",
       "3           Male   28                Doctor             6.2                 6   \n",
       "4           Male   28  Sales Representative             5.9                 4   \n",
       "5           Male   28  Sales Representative             5.9                 4   \n",
       "\n",
       "           Physical Activity Level  Stress Level BMI Category Blood Pressure  \\\n",
       "Person ID                                                                      \n",
       "1                               42             6   Overweight         126/83   \n",
       "2                               60             8       Normal         125/80   \n",
       "3                               60             8       Normal         125/80   \n",
       "4                               30             8        Obese         140/90   \n",
       "5                               30             8        Obese         140/90   \n",
       "\n",
       "           Heart Rate  Daily Steps Sleep Disorder  \n",
       "Person ID                                          \n",
       "1                  77         4200            NaN  \n",
       "2                  75        10000            NaN  \n",
       "3                  75        10000            NaN  \n",
       "4                  85         3000    Sleep Apnea  \n",
       "5                  85         3000    Sleep Apnea  "
      ]
     },
     "execution_count": 7,
     "metadata": {},
     "output_type": "execute_result"
    }
   ],
   "source": [
    "df.head()"
   ]
  },
  {
   "cell_type": "markdown",
   "id": "e00f3ef5-d3e2-40ce-9243-e3fd9ebd47c9",
   "metadata": {},
   "source": [
    "## Which occupation has the lowest average sleep quality? Did the occupation with the lowest sleep duration also have the lowest sleep quality?"
   ]
  },
  {
   "cell_type": "code",
   "execution_count": 42,
   "id": "c013982f-f2a7-4d83-a557-19217862d4ab",
   "metadata": {
    "executionCancelledAt": null,
    "executionTime": 48,
    "lastExecutedAt": 1727614069818,
    "lastExecutedByKernel": "dc1a208c-09b0-46b6-a47c-4e3861c89a8c",
    "lastScheduledRunId": null,
    "lastSuccessfullyExecutedCode": "lowest_sleep_quality_occ = \"\"\n\n# Groupby occupation and calculate average sleep quality\ndf_sleep_quality_group = df.groupby(\"Occupation\")[\"Quality of Sleep\"].mean()\n# Get occupation with lowest average sleep quality \nlowest_sleep_quality_occ = df_sleep_quality_group.sort_values().index[0]\n\nsame_occ = lowest_sleep_quality_occ == lowest_sleep_occ\nprint(lowest_sleep_quality_occ)",
    "outputsMetadata": {
     "0": {
      "height": 38,
      "type": "stream"
     }
    }
   },
   "outputs": [
    {
     "name": "stdout",
     "output_type": "stream",
     "text": [
      "Sales Representative\n"
     ]
    }
   ],
   "source": [
    "lowest_sleep_quality_occ = \"\"\n",
    "\n",
    "# Groupby occupation and calculate average sleep quality\n",
    "df_sleep_quality_group = df.groupby(\"Occupation\")[\"Quality of Sleep\"].mean()\n",
    "# Get occupation with lowest average sleep quality \n",
    "lowest_sleep_quality_occ = df_sleep_quality_group.sort_values().index[0]\n",
    "\n",
    "same_occ = lowest_sleep_quality_occ == lowest_sleep_occ\n",
    "print(lowest_sleep_quality_occ)"
   ]
  },
  {
   "cell_type": "markdown",
   "id": "97ea6d3b-f914-43c3-aaf7-380318fedfbe",
   "metadata": {},
   "source": [
    "## Let's explore how BMI Category can affect sleep disorder rates. \n",
    "</br>\n",
    "We'll start by finding what ratio of app users in each BMI Category have been diagnosed with Insomnia."
   ]
  },
  {
   "cell_type": "code",
   "execution_count": 43,
   "id": "c58931d5-6c81-4b93-948f-d8a97590b6fc",
   "metadata": {
    "executionCancelledAt": null,
    "executionTime": 52,
    "lastExecutedAt": 1727614069870,
    "lastExecutedByKernel": "dc1a208c-09b0-46b6-a47c-4e3861c89a8c",
    "lastScheduledRunId": null,
    "lastSuccessfullyExecutedCode": "normal_bmi_filter = df[\"BMI Category\"] == \"Normal\"\noverweight_bmi_filter = df[\"BMI Category\"] == \"Overweight\"\nobese_bmi_filter = df[\"BMI Category\"] == \"Obese\"\n\n\nnormal_insomnia = df[normal_bmi_filter & (df[\"Sleep Disorder\"] == \"Insomnia\")]\noverweight_insomnia = df[overweight_bmi_filter & (df[\"Sleep Disorder\"] == \"Insomnia\")]\nobese_insomnia = df[obese_bmi_filter & (df[\"Sleep Disorder\"] == \"Insomnia\")]\n\nnormal_people = df[normal_bmi_filter]\noverweight_people = df[overweight_bmi_filter]\nobese_people = df[obese_bmi_filter]\n\nbmi_insomnia_ratios = {\n    \"Normal\": round(len(normal_insomnia) / len(normal_people), 2),\n    \"Overweight\": round(len(overweight_insomnia) / len(overweight_people), 2),\n    \"Obese\": round(len(obese_insomnia) / len(obese_people), 2),\n}\n\nprint(bmi_insomnia_ratios)\n\n",
    "outputsMetadata": {
     "0": {
      "height": 38,
      "type": "stream"
     }
    }
   },
   "outputs": [
    {
     "name": "stdout",
     "output_type": "stream",
     "text": [
      "{'Normal': 0.04, 'Overweight': 0.43, 'Obese': 0.4}\n"
     ]
    }
   ],
   "source": [
    "normal_bmi_filter = df[\"BMI Category\"] == \"Normal\"\n",
    "overweight_bmi_filter = df[\"BMI Category\"] == \"Overweight\"\n",
    "obese_bmi_filter = df[\"BMI Category\"] == \"Obese\"\n",
    "\n",
    "\n",
    "normal_insomnia = df[normal_bmi_filter & (df[\"Sleep Disorder\"] == \"Insomnia\")]\n",
    "overweight_insomnia = df[overweight_bmi_filter & (df[\"Sleep Disorder\"] == \"Insomnia\")]\n",
    "obese_insomnia = df[obese_bmi_filter & (df[\"Sleep Disorder\"] == \"Insomnia\")]\n",
    "\n",
    "normal_people = df[normal_bmi_filter]\n",
    "overweight_people = df[overweight_bmi_filter]\n",
    "obese_people = df[obese_bmi_filter]\n",
    "\n",
    "bmi_insomnia_ratios = {\n",
    "    \"Normal\": round(len(normal_insomnia) / len(normal_people), 2),\n",
    "    \"Overweight\": round(len(overweight_insomnia) / len(overweight_people), 2),\n",
    "    \"Obese\": round(len(obese_insomnia) / len(obese_people), 2),\n",
    "}\n",
    "\n",
    "print(bmi_insomnia_ratios)\n",
    "\n"
   ]
  }
 ],
 "metadata": {
  "colab": {
   "name": "Welcome to DataCamp Workspaces.ipynb",
   "provenance": []
  },
  "kernelspec": {
   "display_name": "Python 3 (ipykernel)",
   "language": "python",
   "name": "python3"
  },
  "language_info": {
   "codemirror_mode": {
    "name": "ipython",
    "version": 3
   },
   "file_extension": ".py",
   "mimetype": "text/x-python",
   "name": "python",
   "nbconvert_exporter": "python",
   "pygments_lexer": "ipython3",
   "version": "3.12.4"
  }
 },
 "nbformat": 4,
 "nbformat_minor": 5
}
